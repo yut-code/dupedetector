{
 "cells": [
  {
   "cell_type": "code",
   "execution_count": 10,
   "id": "d9eb5fbe",
   "metadata": {
    "scrolled": true
   },
   "outputs": [],
   "source": [
    "import pandas as pd\n",
    "from sklearn.tree import DecisionTreeClassifier\n",
    "from sklearn.model_selection import train_test_split\n",
    "from sklearn.metrics import accuracy_score\n",
    "from sklearn.feature_extraction.text import TfidfVectorizer\n",
    "import pickle"
   ]
  },
  {
   "cell_type": "code",
   "execution_count": 11,
   "id": "9c434fe8",
   "metadata": {},
   "outputs": [],
   "source": [
    "#datasets\n",
    "real = pd.read_csv('True.csv')\n",
    "fake = pd.read_csv('Fake.csv')"
   ]
  },
  {
   "cell_type": "code",
   "execution_count": 12,
   "id": "38d30901",
   "metadata": {},
   "outputs": [],
   "source": [
    "#add a column to data to indicate if it's from the real or fake news sets\n",
    "fake['type'] = 0\n",
    "real['type'] = 1"
   ]
  },
  {
   "cell_type": "code",
   "execution_count": 13,
   "id": "4ecee0c8",
   "metadata": {},
   "outputs": [],
   "source": [
    "modify_text = [real['text'][i].replace('WASHINGTON (Reuters) - ', '').replace('BRUSSELS (Reuters) - ', '').replace('MINSK (Reuters) - ', '').replace('MOSCOW (Reuters) - ', '').replace('JAKARTA (Reuters) - ', '').replace('LONDON (Reuters) - ', '').replace('(Reuters) - ','').replace('LIMA (Reuters) - ','').replace('SAN FRANCISCO (Reuters) - ','').replace('MEXICO CITY (Reuters) - ','') for i in range(len(real['text']))]\n",
    "real['text'] = modify_text"
   ]
  },
  {
   "cell_type": "code",
   "execution_count": 14,
   "id": "1ed580d6",
   "metadata": {
    "scrolled": false
   },
   "outputs": [
    {
     "data": {
      "text/html": [
       "<div>\n",
       "<style scoped>\n",
       "    .dataframe tbody tr th:only-of-type {\n",
       "        vertical-align: middle;\n",
       "    }\n",
       "\n",
       "    .dataframe tbody tr th {\n",
       "        vertical-align: top;\n",
       "    }\n",
       "\n",
       "    .dataframe thead th {\n",
       "        text-align: right;\n",
       "    }\n",
       "</style>\n",
       "<table border=\"1\" class=\"dataframe\">\n",
       "  <thead>\n",
       "    <tr style=\"text-align: right;\">\n",
       "      <th></th>\n",
       "      <th>title</th>\n",
       "      <th>text</th>\n",
       "      <th>type</th>\n",
       "    </tr>\n",
       "  </thead>\n",
       "  <tbody>\n",
       "    <tr>\n",
       "      <th>0</th>\n",
       "      <td>CNN’S FAKE NEWS BACKFIRES! CNN Legal Analyst A...</td>\n",
       "      <td>Hell has frozen over! CNN is actually reportin...</td>\n",
       "      <td>0</td>\n",
       "    </tr>\n",
       "    <tr>\n",
       "      <th>1</th>\n",
       "      <td>DEMOCRATS FUMING Over Vote To Keep “Hurtful” W...</td>\n",
       "      <td>The left wants to change  hurtful  words to wh...</td>\n",
       "      <td>0</td>\n",
       "    </tr>\n",
       "    <tr>\n",
       "      <th>2</th>\n",
       "      <td>HOUSE OF LIES: Pedophilia Allegations Levied A...</td>\n",
       "      <td>How should the gay community feel about the Tr...</td>\n",
       "      <td>0</td>\n",
       "    </tr>\n",
       "    <tr>\n",
       "      <th>3</th>\n",
       "      <td>Mueller team lawyer brings witness-flipping ex...</td>\n",
       "      <td>A veteran federal prosecutor recruited onto sp...</td>\n",
       "      <td>1</td>\n",
       "    </tr>\n",
       "    <tr>\n",
       "      <th>4</th>\n",
       "      <td>TRUMP SPOKESPERSON Delivers A Knockout Punch T...</td>\n",
       "      <td>Trump Spokesperson Katrina Pierson:  When was ...</td>\n",
       "      <td>0</td>\n",
       "    </tr>\n",
       "    <tr>\n",
       "      <th>...</th>\n",
       "      <td>...</td>\n",
       "      <td>...</td>\n",
       "      <td>...</td>\n",
       "    </tr>\n",
       "    <tr>\n",
       "      <th>44893</th>\n",
       "      <td>Trump Slips Up: Blames Obama For Russian Inte...</td>\n",
       "      <td>Donald Trump is once again the White House lea...</td>\n",
       "      <td>0</td>\n",
       "    </tr>\n",
       "    <tr>\n",
       "      <th>44894</th>\n",
       "      <td>SICK! Left-Wing Social Media Celebrates Shooti...</td>\n",
       "      <td>Our full report on the horrible shooting of Re...</td>\n",
       "      <td>0</td>\n",
       "    </tr>\n",
       "    <tr>\n",
       "      <th>44895</th>\n",
       "      <td>Trump’s Latest Campaign Promise May Be His Mo...</td>\n",
       "      <td>Donald Trump is, well, deplorable. He s sugges...</td>\n",
       "      <td>0</td>\n",
       "    </tr>\n",
       "    <tr>\n",
       "      <th>44896</th>\n",
       "      <td>Trump, Sanders Win Big In Michigan – Trump, Cl...</td>\n",
       "      <td>21st Century Wire says Rich men love to gamble...</td>\n",
       "      <td>0</td>\n",
       "    </tr>\n",
       "    <tr>\n",
       "      <th>44897</th>\n",
       "      <td>U.S sanctions North Koreans for 'flagrant' rig...</td>\n",
       "      <td>The United States on Thursday imposed sanction...</td>\n",
       "      <td>1</td>\n",
       "    </tr>\n",
       "  </tbody>\n",
       "</table>\n",
       "<p>44898 rows × 3 columns</p>\n",
       "</div>"
      ],
      "text/plain": [
       "                                                   title  \\\n",
       "0      CNN’S FAKE NEWS BACKFIRES! CNN Legal Analyst A...   \n",
       "1      DEMOCRATS FUMING Over Vote To Keep “Hurtful” W...   \n",
       "2      HOUSE OF LIES: Pedophilia Allegations Levied A...   \n",
       "3      Mueller team lawyer brings witness-flipping ex...   \n",
       "4      TRUMP SPOKESPERSON Delivers A Knockout Punch T...   \n",
       "...                                                  ...   \n",
       "44893   Trump Slips Up: Blames Obama For Russian Inte...   \n",
       "44894  SICK! Left-Wing Social Media Celebrates Shooti...   \n",
       "44895   Trump’s Latest Campaign Promise May Be His Mo...   \n",
       "44896  Trump, Sanders Win Big In Michigan – Trump, Cl...   \n",
       "44897  U.S sanctions North Koreans for 'flagrant' rig...   \n",
       "\n",
       "                                                    text  type  \n",
       "0      Hell has frozen over! CNN is actually reportin...     0  \n",
       "1      The left wants to change  hurtful  words to wh...     0  \n",
       "2      How should the gay community feel about the Tr...     0  \n",
       "3      A veteran federal prosecutor recruited onto sp...     1  \n",
       "4      Trump Spokesperson Katrina Pierson:  When was ...     0  \n",
       "...                                                  ...   ...  \n",
       "44893  Donald Trump is once again the White House lea...     0  \n",
       "44894  Our full report on the horrible shooting of Re...     0  \n",
       "44895  Donald Trump is, well, deplorable. He s sugges...     0  \n",
       "44896  21st Century Wire says Rich men love to gamble...     0  \n",
       "44897  The United States on Thursday imposed sanction...     1  \n",
       "\n",
       "[44898 rows x 3 columns]"
      ]
     },
     "execution_count": 14,
     "metadata": {},
     "output_type": "execute_result"
    }
   ],
   "source": [
    "df = pd.concat([fake, real], axis=0) #combine the two datasets into one, x axis\n",
    "df = df.drop(columns=['subject', 'date']) # drop subject and date column\n",
    "df = df.sample(frac = 1) #shuffle data\n",
    "df = df.reset_index(drop=True) #drops the current index of the df and replaces it with an index of increasing integers, because data is shuffled/out of order\n",
    "df"
   ]
  },
  {
   "cell_type": "code",
   "execution_count": 15,
   "id": "c2b9073e",
   "metadata": {},
   "outputs": [],
   "source": [
    "X = df['text'] #input set\n",
    "y = df['type'] #output set"
   ]
  },
  {
   "cell_type": "code",
   "execution_count": 16,
   "id": "a1349da0",
   "metadata": {
    "scrolled": false
   },
   "outputs": [
    {
     "name": "stdout",
     "output_type": "stream",
     "text": [
      "Accuracy score: 94.74 %\n"
     ]
    }
   ],
   "source": [
    "X_train, X_test, y_train, y_test = train_test_split(X, y, test_size=0.2, shuffle = True ) #split into train and test \n",
    "\n",
    "# Convert text to vectors\n",
    "vectorization = TfidfVectorizer(stop_words='english', max_df=0.7)\n",
    "Xv_train = vectorization.fit_transform(X_train)\n",
    "Xv_test = vectorization.transform(X_test)\n",
    "\n",
    "# train model & calculate accuracy\n",
    "model = DecisionTreeClassifier()\n",
    "model.fit(Xv_train, y_train)\n",
    "predictions = model.predict(Xv_test)\n",
    "score = accuracy_score(y_test, predictions)\n",
    "print(\"Accuracy score: {0:.2f} %\".format(100 * score))"
   ]
  },
  {
   "cell_type": "code",
   "execution_count": 31,
   "id": "6a5f4e4a",
   "metadata": {
    "scrolled": true
   },
   "outputs": [
    {
     "name": "stdout",
     "output_type": "stream",
     "text": [
      "Kenya’s main opposition party warned the election commission against reorganising voting in four western counties where polls did not open on Thursday due to violence and said supporters should boycott any process that goes ahead.\n"
     ]
    }
   ],
   "source": [
    "news = input()"
   ]
  },
  {
   "cell_type": "code",
   "execution_count": 17,
   "id": "4a668acf",
   "metadata": {},
   "outputs": [],
   "source": [
    "def ouiOuNon(n):\n",
    "    if n == 0:\n",
    "        print(\"Seems like fake news...\")\n",
    "    else:\n",
    "        print(\"This seems real to me!\")\n",
    "        "
   ]
  },
  {
   "cell_type": "code",
   "execution_count": 14,
   "id": "c3a9c1b4",
   "metadata": {},
   "outputs": [],
   "source": [
    "def detect(test):\n",
    "    vector_test = vectorization.transform([test])\n",
    "    prediction = model.predict(vector_test)\n",
    "    return prediction"
   ]
  },
  {
   "cell_type": "code",
   "execution_count": 32,
   "id": "3d22ac80",
   "metadata": {},
   "outputs": [
    {
     "name": "stdout",
     "output_type": "stream",
     "text": [
      "This seems real to me!\n"
     ]
    }
   ],
   "source": [
    "ouiOuNon(detect(news))"
   ]
  },
  {
   "cell_type": "code",
   "execution_count": 26,
   "id": "13b4bdae",
   "metadata": {},
   "outputs": [
    {
     "name": "stdout",
     "output_type": "stream",
     "text": [
      "Since then, the Russia investigation has revealed a sprawling scandal: Members of Trump’s campaign, including those in the president’s inner circle, were in constant contact with representatives of the Russian government throughout the election and transition. The two campaigns discussed tactics and policy, including the release of “dirt” on their mutual opponent, Hillary Clinton, and rolling back American sanctions against Russia. And they executed their strategies timed to maximally benefit Trump’s chances of victory.\n"
     ]
    }
   ],
   "source": [
    "news = input()"
   ]
  },
  {
   "cell_type": "code",
   "execution_count": 27,
   "id": "1692b847",
   "metadata": {},
   "outputs": [
    {
     "name": "stdout",
     "output_type": "stream",
     "text": [
      "Seems like fake news...\n"
     ]
    }
   ],
   "source": [
    "ouiOuNon(detect(news))"
   ]
  },
  {
   "cell_type": "code",
   "execution_count": 21,
   "id": "347bb4b2",
   "metadata": {},
   "outputs": [],
   "source": [
    "filename = 'model.pkl'\n",
    "file_obj = open(filename, 'wb')\n",
    "pickle.dump(model, file_obj)"
   ]
  },
  {
   "cell_type": "code",
   "execution_count": null,
   "id": "3e13fe27",
   "metadata": {},
   "outputs": [],
   "source": []
  }
 ],
 "metadata": {
  "kernelspec": {
   "display_name": "Python 3",
   "language": "python",
   "name": "python3"
  },
  "language_info": {
   "codemirror_mode": {
    "name": "ipython",
    "version": 3
   },
   "file_extension": ".py",
   "mimetype": "text/x-python",
   "name": "python",
   "nbconvert_exporter": "python",
   "pygments_lexer": "ipython3",
   "version": "3.8.8"
  }
 },
 "nbformat": 4,
 "nbformat_minor": 5
}
